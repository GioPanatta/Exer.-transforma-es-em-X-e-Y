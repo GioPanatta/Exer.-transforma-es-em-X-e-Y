{
 "cells": [
  {
   "cell_type": "markdown",
   "metadata": {},
   "source": [
    "# Regressão 01 - tarefa 02 - transformações em X e Y"
   ]
  },
  {
   "cell_type": "markdown",
   "metadata": {},
   "source": [
    "### 1. Melhorando o ajuste no percentual de gorjetas\n",
    "\n",
    "a. Vamos partir do modelo feito na última tarefa, o que relaciona ```tip_pct``` e ```net_bill```. Carregue a base, os pacotes e reproduza este modelo aqui."
   ]
  },
  {
   "cell_type": "code",
   "execution_count": 16,
   "metadata": {},
   "outputs": [],
   "source": [
    "import pandas as pd\n",
    "import seaborn as sns\n",
    "from seaborn import load_dataset\n",
    "import matplotlib.pyplot as plt\n",
    "import seaborn as sns\n",
    "import numpy as np\n",
    "\n",
    "import patsy\n",
    "import statsmodels.api as sm\n",
    "import statsmodels.formula.api as smf\n",
    "from sklearn.metrics import r2_score\n",
    "\n",
    "%matplotlib inline"
   ]
  },
  {
   "cell_type": "code",
   "execution_count": 17,
   "metadata": {},
   "outputs": [
    {
     "data": {
      "text/html": [
       "<div>\n",
       "<style scoped>\n",
       "    .dataframe tbody tr th:only-of-type {\n",
       "        vertical-align: middle;\n",
       "    }\n",
       "\n",
       "    .dataframe tbody tr th {\n",
       "        vertical-align: top;\n",
       "    }\n",
       "\n",
       "    .dataframe thead th {\n",
       "        text-align: right;\n",
       "    }\n",
       "</style>\n",
       "<table border=\"1\" class=\"dataframe\">\n",
       "  <thead>\n",
       "    <tr style=\"text-align: right;\">\n",
       "      <th></th>\n",
       "      <th>total_bill</th>\n",
       "      <th>tip</th>\n",
       "      <th>sex</th>\n",
       "      <th>smoker</th>\n",
       "      <th>day</th>\n",
       "      <th>time</th>\n",
       "      <th>size</th>\n",
       "      <th>tip_pct</th>\n",
       "      <th>net_bill</th>\n",
       "    </tr>\n",
       "  </thead>\n",
       "  <tbody>\n",
       "    <tr>\n",
       "      <th>0</th>\n",
       "      <td>16.99</td>\n",
       "      <td>1.01</td>\n",
       "      <td>Female</td>\n",
       "      <td>No</td>\n",
       "      <td>Sun</td>\n",
       "      <td>Dinner</td>\n",
       "      <td>2</td>\n",
       "      <td>0.063204</td>\n",
       "      <td>15.98</td>\n",
       "    </tr>\n",
       "    <tr>\n",
       "      <th>1</th>\n",
       "      <td>10.34</td>\n",
       "      <td>1.66</td>\n",
       "      <td>Male</td>\n",
       "      <td>No</td>\n",
       "      <td>Sun</td>\n",
       "      <td>Dinner</td>\n",
       "      <td>3</td>\n",
       "      <td>0.191244</td>\n",
       "      <td>8.68</td>\n",
       "    </tr>\n",
       "    <tr>\n",
       "      <th>2</th>\n",
       "      <td>21.01</td>\n",
       "      <td>3.50</td>\n",
       "      <td>Male</td>\n",
       "      <td>No</td>\n",
       "      <td>Sun</td>\n",
       "      <td>Dinner</td>\n",
       "      <td>3</td>\n",
       "      <td>0.199886</td>\n",
       "      <td>17.51</td>\n",
       "    </tr>\n",
       "    <tr>\n",
       "      <th>3</th>\n",
       "      <td>23.68</td>\n",
       "      <td>3.31</td>\n",
       "      <td>Male</td>\n",
       "      <td>No</td>\n",
       "      <td>Sun</td>\n",
       "      <td>Dinner</td>\n",
       "      <td>2</td>\n",
       "      <td>0.162494</td>\n",
       "      <td>20.37</td>\n",
       "    </tr>\n",
       "    <tr>\n",
       "      <th>4</th>\n",
       "      <td>24.59</td>\n",
       "      <td>3.61</td>\n",
       "      <td>Female</td>\n",
       "      <td>No</td>\n",
       "      <td>Sun</td>\n",
       "      <td>Dinner</td>\n",
       "      <td>4</td>\n",
       "      <td>0.172069</td>\n",
       "      <td>20.98</td>\n",
       "    </tr>\n",
       "  </tbody>\n",
       "</table>\n",
       "</div>"
      ],
      "text/plain": [
       "   total_bill   tip     sex smoker  day    time  size   tip_pct  net_bill\n",
       "0       16.99  1.01  Female     No  Sun  Dinner     2  0.063204     15.98\n",
       "1       10.34  1.66    Male     No  Sun  Dinner     3  0.191244      8.68\n",
       "2       21.01  3.50    Male     No  Sun  Dinner     3  0.199886     17.51\n",
       "3       23.68  3.31    Male     No  Sun  Dinner     2  0.162494     20.37\n",
       "4       24.59  3.61  Female     No  Sun  Dinner     4  0.172069     20.98"
      ]
     },
     "execution_count": 17,
     "metadata": {},
     "output_type": "execute_result"
    }
   ],
   "source": [
    "tips = sns.load_dataset(\"tips\")\n",
    "tips['tip_pct'] = tips['tip'] / (tips['total_bill'] - tips['tip'])\n",
    "tips['net_bill'] = tips['total_bill'] - tips['tip']\n",
    "tips.head()"
   ]
  },
  {
   "cell_type": "code",
   "execution_count": 18,
   "metadata": {},
   "outputs": [
    {
     "data": {
      "text/html": [
       "<table class=\"simpletable\">\n",
       "<caption>OLS Regression Results</caption>\n",
       "<tr>\n",
       "  <th>Dep. Variable:</th>         <td>tip_pct</td>     <th>  R-squared:         </th> <td>   0.091</td>\n",
       "</tr>\n",
       "<tr>\n",
       "  <th>Model:</th>                   <td>OLS</td>       <th>  Adj. R-squared:    </th> <td>   0.088</td>\n",
       "</tr>\n",
       "<tr>\n",
       "  <th>Method:</th>             <td>Least Squares</td>  <th>  F-statistic:       </th> <td>   24.31</td>\n",
       "</tr>\n",
       "<tr>\n",
       "  <th>Date:</th>             <td>Sat, 30 Dec 2023</td> <th>  Prob (F-statistic):</th> <td>1.52e-06</td>\n",
       "</tr>\n",
       "<tr>\n",
       "  <th>Time:</th>                 <td>16:56:45</td>     <th>  Log-Likelihood:    </th> <td>  108.00</td>\n",
       "</tr>\n",
       "<tr>\n",
       "  <th>No. Observations:</th>      <td>   244</td>      <th>  AIC:               </th> <td>  -212.0</td>\n",
       "</tr>\n",
       "<tr>\n",
       "  <th>Df Residuals:</th>          <td>   242</td>      <th>  BIC:               </th> <td>  -205.0</td>\n",
       "</tr>\n",
       "<tr>\n",
       "  <th>Df Model:</th>              <td>     1</td>      <th>                     </th>     <td> </td>   \n",
       "</tr>\n",
       "<tr>\n",
       "  <th>Covariance Type:</th>      <td>nonrobust</td>    <th>                     </th>     <td> </td>   \n",
       "</tr>\n",
       "</table>\n",
       "<table class=\"simpletable\">\n",
       "<tr>\n",
       "      <td></td>         <th>coef</th>     <th>std err</th>      <th>t</th>      <th>P>|t|</th>  <th>[0.025</th>    <th>0.975]</th>  \n",
       "</tr>\n",
       "<tr>\n",
       "  <th>Intercept</th> <td>    0.3053</td> <td>    0.023</td> <td>   13.166</td> <td> 0.000</td> <td>    0.260</td> <td>    0.351</td>\n",
       "</tr>\n",
       "<tr>\n",
       "  <th>net_bill</th>  <td>   -0.0061</td> <td>    0.001</td> <td>   -4.931</td> <td> 0.000</td> <td>   -0.009</td> <td>   -0.004</td>\n",
       "</tr>\n",
       "</table>\n",
       "<table class=\"simpletable\">\n",
       "<tr>\n",
       "  <th>Omnibus:</th>       <td>468.674</td> <th>  Durbin-Watson:     </th>  <td>   1.987</td> \n",
       "</tr>\n",
       "<tr>\n",
       "  <th>Prob(Omnibus):</th> <td> 0.000</td>  <th>  Jarque-Bera (JB):  </th> <td>234437.604</td>\n",
       "</tr>\n",
       "<tr>\n",
       "  <th>Skew:</th>          <td>11.104</td>  <th>  Prob(JB):          </th>  <td>    0.00</td> \n",
       "</tr>\n",
       "<tr>\n",
       "  <th>Kurtosis:</th>      <td>153.221</td> <th>  Cond. No.          </th>  <td>    43.3</td> \n",
       "</tr>\n",
       "</table><br/><br/>Notes:<br/>[1] Standard Errors assume that the covariance matrix of the errors is correctly specified."
      ],
      "text/plain": [
       "<class 'statsmodels.iolib.summary.Summary'>\n",
       "\"\"\"\n",
       "                            OLS Regression Results                            \n",
       "==============================================================================\n",
       "Dep. Variable:                tip_pct   R-squared:                       0.091\n",
       "Model:                            OLS   Adj. R-squared:                  0.088\n",
       "Method:                 Least Squares   F-statistic:                     24.31\n",
       "Date:                Sat, 30 Dec 2023   Prob (F-statistic):           1.52e-06\n",
       "Time:                        16:56:45   Log-Likelihood:                 108.00\n",
       "No. Observations:                 244   AIC:                            -212.0\n",
       "Df Residuals:                     242   BIC:                            -205.0\n",
       "Df Model:                           1                                         \n",
       "Covariance Type:            nonrobust                                         \n",
       "==============================================================================\n",
       "                 coef    std err          t      P>|t|      [0.025      0.975]\n",
       "------------------------------------------------------------------------------\n",
       "Intercept      0.3053      0.023     13.166      0.000       0.260       0.351\n",
       "net_bill      -0.0061      0.001     -4.931      0.000      -0.009      -0.004\n",
       "==============================================================================\n",
       "Omnibus:                      468.674   Durbin-Watson:                   1.987\n",
       "Prob(Omnibus):                  0.000   Jarque-Bera (JB):           234437.604\n",
       "Skew:                          11.104   Prob(JB):                         0.00\n",
       "Kurtosis:                     153.221   Cond. No.                         43.3\n",
       "==============================================================================\n",
       "\n",
       "Notes:\n",
       "[1] Standard Errors assume that the covariance matrix of the errors is correctly specified.\n",
       "\"\"\""
      ]
     },
     "execution_count": 18,
     "metadata": {},
     "output_type": "execute_result"
    }
   ],
   "source": [
    "# Ajustando o primeiro modelo sem logaritmo\n",
    "# O objetivo é entender como a porcentagem da gorjeta varia em relação ao valor da conta líquida.\n",
    "#Neste código temos a variável tip_pct como dependente (alvo) e net_bill como independente\n",
    "reg = smf.ols('tip_pct ~ net_bill', data=tips).fit()\n",
    "reg_summary = reg.summary()\n",
    "reg_summary"
   ]
  },
  {
   "cell_type": "markdown",
   "metadata": {},
   "source": [
    "Com a abordagem acima, obtivemos um R-squared de 0.091. Ou seja, somente cerca de 9.1% da variabilidade em tip_pct é explicada pela variável net_bill."
   ]
  },
  {
   "cell_type": "code",
   "execution_count": 19,
   "metadata": {},
   "outputs": [
    {
     "data": {
      "image/png": "[encoded data removed]",
      "text/plain": [
       "<Figure size 700x600 with 1 Axes>"
      ]
     },
     "metadata": {},
     "output_type": "display_data"
    }
   ],
   "source": [
    "plt.figure(figsize=(7, 6))\n",
    "sns.regplot(x='net_bill', y='tip_pct', data=tips, ci=None)\n",
    "plt.title('Relação entre Tip Percentual e Net Bill (Sem Log)')\n",
    "plt.xlabel('Net Bill')\n",
    "plt.ylabel('Tip Percentual')\n",
    "plt.show()"
   ]
  },
  {
   "cell_type": "markdown",
   "metadata": {},
   "source": [
    "### 2. ajuste o modelo de ```tip_pct``` em função do logaritmo de ```net_bill```."
   ]
  },
  {
   "cell_type": "code",
   "execution_count": 20,
   "metadata": {},
   "outputs": [
    {
     "data": {
      "text/html": [
       "<table class=\"simpletable\">\n",
       "<caption>OLS Regression Results</caption>\n",
       "<tr>\n",
       "  <th>Dep. Variable:</th>         <td>tip_pct</td>     <th>  R-squared:         </th> <td>   0.202</td>\n",
       "</tr>\n",
       "<tr>\n",
       "  <th>Model:</th>                   <td>OLS</td>       <th>  Adj. R-squared:    </th> <td>   0.198</td>\n",
       "</tr>\n",
       "<tr>\n",
       "  <th>Method:</th>             <td>Least Squares</td>  <th>  F-statistic:       </th> <td>   61.16</td>\n",
       "</tr>\n",
       "<tr>\n",
       "  <th>Date:</th>             <td>Sat, 30 Dec 2023</td> <th>  Prob (F-statistic):</th> <td>1.62e-13</td>\n",
       "</tr>\n",
       "<tr>\n",
       "  <th>Time:</th>                 <td>16:56:45</td>     <th>  Log-Likelihood:    </th> <td>  123.81</td>\n",
       "</tr>\n",
       "<tr>\n",
       "  <th>No. Observations:</th>      <td>   244</td>      <th>  AIC:               </th> <td>  -243.6</td>\n",
       "</tr>\n",
       "<tr>\n",
       "  <th>Df Residuals:</th>          <td>   242</td>      <th>  BIC:               </th> <td>  -236.6</td>\n",
       "</tr>\n",
       "<tr>\n",
       "  <th>Df Model:</th>              <td>     1</td>      <th>                     </th>     <td> </td>   \n",
       "</tr>\n",
       "<tr>\n",
       "  <th>Covariance Type:</th>      <td>nonrobust</td>    <th>                     </th>     <td> </td>   \n",
       "</tr>\n",
       "</table>\n",
       "<table class=\"simpletable\">\n",
       "<tr>\n",
       "        <td></td>          <th>coef</th>     <th>std err</th>      <th>t</th>      <th>P>|t|</th>  <th>[0.025</th>    <th>0.975]</th>  \n",
       "</tr>\n",
       "<tr>\n",
       "  <th>Intercept</th>    <td>    0.6181</td> <td>    0.054</td> <td>   11.444</td> <td> 0.000</td> <td>    0.512</td> <td>    0.724</td>\n",
       "</tr>\n",
       "<tr>\n",
       "  <th>log_net_bill</th> <td>   -0.1534</td> <td>    0.020</td> <td>   -7.820</td> <td> 0.000</td> <td>   -0.192</td> <td>   -0.115</td>\n",
       "</tr>\n",
       "</table>\n",
       "<table class=\"simpletable\">\n",
       "<tr>\n",
       "  <th>Omnibus:</th>       <td>440.899</td> <th>  Durbin-Watson:     </th>  <td>   1.965</td> \n",
       "</tr>\n",
       "<tr>\n",
       "  <th>Prob(Omnibus):</th> <td> 0.000</td>  <th>  Jarque-Bera (JB):  </th> <td>171509.052</td>\n",
       "</tr>\n",
       "<tr>\n",
       "  <th>Skew:</th>          <td> 9.850</td>  <th>  Prob(JB):          </th>  <td>    0.00</td> \n",
       "</tr>\n",
       "<tr>\n",
       "  <th>Kurtosis:</th>      <td>131.381</td> <th>  Cond. No.          </th>  <td>    17.9</td> \n",
       "</tr>\n",
       "</table><br/><br/>Notes:<br/>[1] Standard Errors assume that the covariance matrix of the errors is correctly specified."
      ],
      "text/plain": [
       "<class 'statsmodels.iolib.summary.Summary'>\n",
       "\"\"\"\n",
       "                            OLS Regression Results                            \n",
       "==============================================================================\n",
       "Dep. Variable:                tip_pct   R-squared:                       0.202\n",
       "Model:                            OLS   Adj. R-squared:                  0.198\n",
       "Method:                 Least Squares   F-statistic:                     61.16\n",
       "Date:                Sat, 30 Dec 2023   Prob (F-statistic):           1.62e-13\n",
       "Time:                        16:56:45   Log-Likelihood:                 123.81\n",
       "No. Observations:                 244   AIC:                            -243.6\n",
       "Df Residuals:                     242   BIC:                            -236.6\n",
       "Df Model:                           1                                         \n",
       "Covariance Type:            nonrobust                                         \n",
       "================================================================================\n",
       "                   coef    std err          t      P>|t|      [0.025      0.975]\n",
       "--------------------------------------------------------------------------------\n",
       "Intercept        0.6181      0.054     11.444      0.000       0.512       0.724\n",
       "log_net_bill    -0.1534      0.020     -7.820      0.000      -0.192      -0.115\n",
       "==============================================================================\n",
       "Omnibus:                      440.899   Durbin-Watson:                   1.965\n",
       "Prob(Omnibus):                  0.000   Jarque-Bera (JB):           171509.052\n",
       "Skew:                           9.850   Prob(JB):                         0.00\n",
       "Kurtosis:                     131.381   Cond. No.                         17.9\n",
       "==============================================================================\n",
       "\n",
       "Notes:\n",
       "[1] Standard Errors assume that the covariance matrix of the errors is correctly specified.\n",
       "\"\"\""
      ]
     },
     "execution_count": 20,
     "metadata": {},
     "output_type": "execute_result"
    }
   ],
   "source": [
    "# Calculando o logaritmo de 'net_bill' e ajustando o segundo modelo com logaritmo\n",
    "tips['log_net_bill'] = np.log(tips['net_bill']) #usando a função do numpy np.log para logaritimizar a variável net_bill\n",
    "log_reg = smf.ols('tip_pct ~ log_net_bill', data=tips).fit()\n",
    "log_reg_summary = log_reg.summary()\n",
    "\n",
    "log_reg_summary"
   ]
  },
  {
   "cell_type": "markdown",
   "metadata": {},
   "source": [
    "A partir da modificação (transformação logarítmica da variável net_bill) obtivemos uma melhora significativa em nosso resultado: R^2 de aproximadamente 0.202, o que significa que cerca de 20.2% da variabilidade em tip_pct é explicada pela variável log_net_bill."
   ]
  },
  {
   "cell_type": "code",
   "execution_count": 21,
   "metadata": {},
   "outputs": [
    {
     "data": {
      "image/png": "[encoded data removed]",
      "text/plain": [
       "<Figure size 700x600 with 1 Axes>"
      ]
     },
     "metadata": {},
     "output_type": "display_data"
    }
   ],
   "source": [
    "plt.figure(figsize=(7, 6))\n",
    "sns.regplot(x='log_net_bill', y='tip_pct', data=tips, ci=None)\n",
    "plt.title('Relação entre Tip Percentual e Log de Net Bill')\n",
    "plt.xlabel('Log de Net Bill')\n",
    "plt.ylabel('Tip Percentual')\n",
    "plt.show()"
   ]
  },
  {
   "cell_type": "markdown",
   "metadata": {},
   "source": [
    "Através dos dois gráficos de Regressões Lineares (sem e com transformação logarítmica) podemos observar uma tendência que a primeira vista parece contraintuitiva: conforme o valor da conta (net_bill) aumenta, há uma diminuição na porcentagem da gorjeta (pct_bill). "
   ]
  },
  {
   "cell_type": "markdown",
   "metadata": {},
   "source": [
    "Entendendo os efeitos da transformação logarítmica:\n",
    "\n",
    "*Linearidade: A transformação logarítmica pode tornar a relação entre as variáveis mais próxima de uma relação linear, o que é ideal para a regressão linear.\n",
    "*Variação Reduzida em Grandes Valores: Em muitos casos, dados como preços ou rendas têm uma distribuição assimétrica com alguns valores muito altos. O logaritmo ajuda a reduzir essa assimetria, tornando o modelo mais eficaz.\n",
    "*Melhor Ajuste: Se a relação original entre as variáveis é não linear, a transformação logarítmica pode melhorar o ajuste do modelo, como indicado pelo aumento do R^2.\n",
    " "
   ]
  },
  {
   "cell_type": "markdown",
   "metadata": {},
   "source": [
    "###  3. ajuste o modelo de ```tip_pct``` em função de um polinômio de segundo grau em ```net_bill```."
   ]
  },
  {
   "cell_type": "code",
   "execution_count": 22,
   "metadata": {},
   "outputs": [
    {
     "data": {
      "text/html": [
       "<table class=\"simpletable\">\n",
       "<caption>OLS Regression Results</caption>\n",
       "<tr>\n",
       "  <th>Dep. Variable:</th>         <td>tip_pct</td>     <th>  R-squared:         </th> <td>   0.158</td>\n",
       "</tr>\n",
       "<tr>\n",
       "  <th>Model:</th>                   <td>OLS</td>       <th>  Adj. R-squared:    </th> <td>   0.151</td>\n",
       "</tr>\n",
       "<tr>\n",
       "  <th>Method:</th>             <td>Least Squares</td>  <th>  F-statistic:       </th> <td>   22.55</td>\n",
       "</tr>\n",
       "<tr>\n",
       "  <th>Date:</th>             <td>Sat, 30 Dec 2023</td> <th>  Prob (F-statistic):</th> <td>1.06e-09</td>\n",
       "</tr>\n",
       "<tr>\n",
       "  <th>Time:</th>                 <td>16:56:45</td>     <th>  Log-Likelihood:    </th> <td>  117.25</td>\n",
       "</tr>\n",
       "<tr>\n",
       "  <th>No. Observations:</th>      <td>   244</td>      <th>  AIC:               </th> <td>  -228.5</td>\n",
       "</tr>\n",
       "<tr>\n",
       "  <th>Df Residuals:</th>          <td>   241</td>      <th>  BIC:               </th> <td>  -218.0</td>\n",
       "</tr>\n",
       "<tr>\n",
       "  <th>Df Model:</th>              <td>     2</td>      <th>                     </th>     <td> </td>   \n",
       "</tr>\n",
       "<tr>\n",
       "  <th>Covariance Type:</th>      <td>nonrobust</td>    <th>                     </th>     <td> </td>   \n",
       "</tr>\n",
       "</table>\n",
       "<table class=\"simpletable\">\n",
       "<tr>\n",
       "          <td></td>            <th>coef</th>     <th>std err</th>      <th>t</th>      <th>P>|t|</th>  <th>[0.025</th>    <th>0.975]</th>  \n",
       "</tr>\n",
       "<tr>\n",
       "  <th>Intercept</th>        <td>    0.4851</td> <td>    0.047</td> <td>   10.332</td> <td> 0.000</td> <td>    0.393</td> <td>    0.578</td>\n",
       "</tr>\n",
       "<tr>\n",
       "  <th>net_bill</th>         <td>   -0.0268</td> <td>    0.005</td> <td>   -5.477</td> <td> 0.000</td> <td>   -0.036</td> <td>   -0.017</td>\n",
       "</tr>\n",
       "<tr>\n",
       "  <th>I(net_bill ** 2)</th> <td>    0.0005</td> <td>    0.000</td> <td>    4.356</td> <td> 0.000</td> <td>    0.000</td> <td>    0.001</td>\n",
       "</tr>\n",
       "</table>\n",
       "<table class=\"simpletable\">\n",
       "<tr>\n",
       "  <th>Omnibus:</th>       <td>447.620</td> <th>  Durbin-Watson:     </th>  <td>   2.026</td> \n",
       "</tr>\n",
       "<tr>\n",
       "  <th>Prob(Omnibus):</th> <td> 0.000</td>  <th>  Jarque-Bera (JB):  </th> <td>186035.672</td>\n",
       "</tr>\n",
       "<tr>\n",
       "  <th>Skew:</th>          <td>10.140</td>  <th>  Prob(JB):          </th>  <td>    0.00</td> \n",
       "</tr>\n",
       "<tr>\n",
       "  <th>Kurtosis:</th>      <td>136.744</td> <th>  Cond. No.          </th>  <td>2.42e+03</td> \n",
       "</tr>\n",
       "</table><br/><br/>Notes:<br/>[1] Standard Errors assume that the covariance matrix of the errors is correctly specified.<br/>[2] The condition number is large, 2.42e+03. This might indicate that there are<br/>strong multicollinearity or other numerical problems."
      ],
      "text/plain": [
       "<class 'statsmodels.iolib.summary.Summary'>\n",
       "\"\"\"\n",
       "                            OLS Regression Results                            \n",
       "==============================================================================\n",
       "Dep. Variable:                tip_pct   R-squared:                       0.158\n",
       "Model:                            OLS   Adj. R-squared:                  0.151\n",
       "Method:                 Least Squares   F-statistic:                     22.55\n",
       "Date:                Sat, 30 Dec 2023   Prob (F-statistic):           1.06e-09\n",
       "Time:                        16:56:45   Log-Likelihood:                 117.25\n",
       "No. Observations:                 244   AIC:                            -228.5\n",
       "Df Residuals:                     241   BIC:                            -218.0\n",
       "Df Model:                           2                                         \n",
       "Covariance Type:            nonrobust                                         \n",
       "====================================================================================\n",
       "                       coef    std err          t      P>|t|      [0.025      0.975]\n",
       "------------------------------------------------------------------------------------\n",
       "Intercept            0.4851      0.047     10.332      0.000       0.393       0.578\n",
       "net_bill            -0.0268      0.005     -5.477      0.000      -0.036      -0.017\n",
       "I(net_bill ** 2)     0.0005      0.000      4.356      0.000       0.000       0.001\n",
       "==============================================================================\n",
       "Omnibus:                      447.620   Durbin-Watson:                   2.026\n",
       "Prob(Omnibus):                  0.000   Jarque-Bera (JB):           186035.672\n",
       "Skew:                          10.140   Prob(JB):                         0.00\n",
       "Kurtosis:                     136.744   Cond. No.                     2.42e+03\n",
       "==============================================================================\n",
       "\n",
       "Notes:\n",
       "[1] Standard Errors assume that the covariance matrix of the errors is correctly specified.\n",
       "[2] The condition number is large, 2.42e+03. This might indicate that there are\n",
       "strong multicollinearity or other numerical problems.\n",
       "\"\"\""
      ]
     },
     "execution_count": 22,
     "metadata": {},
     "output_type": "execute_result"
    }
   ],
   "source": [
    "# Ajustando o modelo de regressão linear com tip_pct em função de um polinômio de segundo grau em net_bill\n",
    "poly_reg = smf.ols('tip_pct ~ net_bill + I(net_bill**2)', data=tips).fit()\n",
    "\n",
    "# Exibindo o resumo do modelo\n",
    "poly_reg.summary()\n"
   ]
  },
  {
   "cell_type": "markdown",
   "metadata": {},
   "source": [
    "O R^2 foi de aproximadamente 0.158, sugerindo que cerca de 15.8% da variabilidade em tip_pct foi explicada pelo modelo."
   ]
  },
  {
   "cell_type": "markdown",
   "metadata": {},
   "source": [
    "Modelos polinomiais são úteis quando a relação entre as variáveis não é bem representada por uma linha reta (modelo linear). Adicionar um termo quadrático permite que o modelo capture curvaturas nos dados, como relações em forma de U ou parábolas"
   ]
  },
  {
   "cell_type": "markdown",
   "metadata": {},
   "source": [
    "###  4. ajuste um modelo no log do ```tip_pct``` em função de ```net_bill```. Calcule o $R^2$ também em ```tip_pct```"
   ]
  },
  {
   "cell_type": "code",
   "execution_count": 24,
   "metadata": {},
   "outputs": [
    {
     "data": {
      "text/plain": [
       "(<class 'statsmodels.iolib.summary.Summary'>\n",
       " \"\"\"\n",
       "                             OLS Regression Results                            \n",
       " ==============================================================================\n",
       " Dep. Variable:                tip_pct   R-squared:                       0.091\n",
       " Model:                            OLS   Adj. R-squared:                  0.088\n",
       " Method:                 Least Squares   F-statistic:                     24.31\n",
       " Date:                Sat, 30 Dec 2023   Prob (F-statistic):           1.52e-06\n",
       " Time:                        16:59:17   Log-Likelihood:                 108.00\n",
       " No. Observations:                 244   AIC:                            -212.0\n",
       " Df Residuals:                     242   BIC:                            -205.0\n",
       " Df Model:                           1                                         \n",
       " Covariance Type:            nonrobust                                         \n",
       " ==============================================================================\n",
       "                  coef    std err          t      P>|t|      [0.025      0.975]\n",
       " ------------------------------------------------------------------------------\n",
       " Intercept      0.3053      0.023     13.166      0.000       0.260       0.351\n",
       " net_bill      -0.0061      0.001     -4.931      0.000      -0.009      -0.004\n",
       " ==============================================================================\n",
       " Omnibus:                      468.674   Durbin-Watson:                   1.987\n",
       " Prob(Omnibus):                  0.000   Jarque-Bera (JB):           234437.604\n",
       " Skew:                          11.104   Prob(JB):                         0.00\n",
       " Kurtosis:                     153.221   Cond. No.                         43.3\n",
       " ==============================================================================\n",
       " \n",
       " Notes:\n",
       " [1] Standard Errors assume that the covariance matrix of the errors is correctly specified.\n",
       " \"\"\",\n",
       " <class 'statsmodels.iolib.summary.Summary'>\n",
       " \"\"\"\n",
       "                             OLS Regression Results                            \n",
       " ==============================================================================\n",
       " Dep. Variable:            log_tip_pct   R-squared:                       0.235\n",
       " Model:                            OLS   Adj. R-squared:                  0.232\n",
       " Method:                 Least Squares   F-statistic:                     74.48\n",
       " Date:                Sat, 30 Dec 2023   Prob (F-statistic):           8.27e-16\n",
       " Time:                        16:59:17   Log-Likelihood:                -106.00\n",
       " No. Observations:                 244   AIC:                             216.0\n",
       " Df Residuals:                     242   BIC:                             223.0\n",
       " Df Model:                           1                                         \n",
       " Covariance Type:            nonrobust                                         \n",
       " ==============================================================================\n",
       "                  coef    std err          t      P>|t|      [0.025      0.975]\n",
       " ------------------------------------------------------------------------------\n",
       " Intercept     -1.2749      0.056    -22.872      0.000      -1.385      -1.165\n",
       " net_bill      -0.0259      0.003     -8.630      0.000      -0.032      -0.020\n",
       " ==============================================================================\n",
       " Omnibus:                       49.929   Durbin-Watson:                   1.938\n",
       " Prob(Omnibus):                  0.000   Jarque-Bera (JB):              258.392\n",
       " Skew:                           0.664   Prob(JB):                     7.78e-57\n",
       " Kurtosis:                       7.864   Cond. No.                         43.3\n",
       " ==============================================================================\n",
       " \n",
       " Notes:\n",
       " [1] Standard Errors assume that the covariance matrix of the errors is correctly specified.\n",
       " \"\"\",\n",
       " 0.09129084920662967,\n",
       " 0.23534487140864324)"
      ]
     },
     "execution_count": 24,
     "metadata": {},
     "output_type": "execute_result"
    }
   ],
   "source": [
    "# Transformando 'tip_pct' em escala logarítmica\n",
    "tips['log_tip_pct'] = np.log(tips['tip_pct'])\n",
    "\n",
    "# Utilizando o modelo com 'tip_pct' em função de 'net_bill'\n",
    "tip_pct_reg = smf.ols('tip_pct ~ net_bill', data=tips).fit()\n",
    "\n",
    "# Ajustando o modelo logarítmico com 'log(tip_pct)' em função de 'net_bill'\n",
    "log_tip_pct_reg = smf.ols('log_tip_pct ~ net_bill', data=tips).fit()\n",
    "\n",
    "# Exibindo os resumos dos modelos e comparando os R-quadrados\n",
    "tip_pct_summary = tip_pct_reg.summary()\n",
    "log_tip_pct_summary = log_tip_pct_reg.summary()\n",
    "r_squared_direct = tip_pct_reg.rsquared\n",
    "r_squared_log = log_tip_pct_reg.rsquared\n",
    "\n",
    "tip_pct_summary, log_tip_pct_summary, r_squared_direct, r_squared_log"
   ]
  },
  {
   "cell_type": "markdown",
   "metadata": {},
   "source": [
    "Análise:\n",
    "\n",
    "Modelo Direto (tip_pct): Analisamos a relação entre a porcentagem da gorjeta (tip_pct) e o valor da conta líquida (net_bill) usando um modelo de regressão linear simples. Este modelo explica cerca de 9.1% da variabilidade em tip_pct.\n",
    "\n",
    "Modelo Logarítmico (log_tip_pct): Também analisamos a mesma relação usando um modelo de regressão linear no logaritmo de tip_pct. Este modelo mostra um ajuste melhor, explicando aproximadamente 23.5% da variabilidade.\n",
    "\n",
    "Conclusão:\n",
    "\n",
    "O modelo logarítmico, apesar de mais complexo, oferece um melhor entendimento da relação entre tip_pct e net_bill, sugerindo que essa relação pode ser não linear."
   ]
  },
  {
   "cell_type": "markdown",
   "metadata": {},
   "source": [
    "###  5. ajuste um modelo no log do ```tip_pct``` em função do log de ```net_bill```. Calcule o $R^2$ também em ```tip_pct```."
   ]
  },
  {
   "cell_type": "code",
   "execution_count": 25,
   "metadata": {},
   "outputs": [
    {
     "data": {
      "text/plain": [
       "(<class 'statsmodels.iolib.summary.Summary'>\n",
       " \"\"\"\n",
       "                             OLS Regression Results                            \n",
       " ==============================================================================\n",
       " Dep. Variable:            log_tip_pct   R-squared:                       0.293\n",
       " Model:                            OLS   Adj. R-squared:                  0.291\n",
       " Method:                 Least Squares   F-statistic:                     100.5\n",
       " Date:                Sat, 30 Dec 2023   Prob (F-statistic):           5.20e-20\n",
       " Time:                        17:20:54   Log-Likelihood:                -96.357\n",
       " No. Observations:                 244   AIC:                             196.7\n",
       " Df Residuals:                     242   BIC:                             203.7\n",
       " Df Model:                           1                                         \n",
       " Covariance Type:            nonrobust                                         \n",
       " ================================================================================\n",
       "                    coef    std err          t      P>|t|      [0.025      0.975]\n",
       " --------------------------------------------------------------------------------\n",
       " Intercept       -0.3942      0.133     -2.961      0.003      -0.657      -0.132\n",
       " log_net_bill    -0.4849      0.048    -10.026      0.000      -0.580      -0.390\n",
       " ==============================================================================\n",
       " Omnibus:                       12.633   Durbin-Watson:                   1.976\n",
       " Prob(Omnibus):                  0.002   Jarque-Bera (JB):               28.054\n",
       " Skew:                           0.141   Prob(JB):                     8.10e-07\n",
       " Kurtosis:                       4.637   Cond. No.                         17.9\n",
       " ==============================================================================\n",
       " \n",
       " Notes:\n",
       " [1] Standard Errors assume that the covariance matrix of the errors is correctly specified.\n",
       " \"\"\",\n",
       " 0.2276852951813605)"
      ]
     },
     "execution_count": 25,
     "metadata": {},
     "output_type": "execute_result"
    }
   ],
   "source": [
    "# Ajustando o modelo com log(tip_pct) em função de log(net_bill)\n",
    "# Tanto log_tip_pct e log_net_bill já foram definidas anteriormente neste botebook\n",
    "log_log_reg = smf.ols('log_tip_pct ~ log_net_bill', data=tips).fit()\n",
    "\n",
    "# Exibindo o resumo do modelo\n",
    "log_log_reg_summary = log_log_reg.summary()\n",
    "\n",
    "# Calculando as predições do modelo em escala logarítmica e transformando-as de volta\n",
    "tips['pred_log_log_tip_pct'] = log_log_reg.fittedvalues\n",
    "# Retornando os valores originais de 'tip_pct' com a função exp() do Numpy\n",
    "tips['pred_tip_pct_from_log_log'] = np.exp(tips['pred_log_log_tip_pct'])\n",
    "\n",
    "# Calculando o R-quadrado para 'tip_pct' com base nas predições transformadas do logaritmo\n",
    "r_squared_tip_pct_from_log_log = r2_score(tips['tip_pct'], tips['pred_tip_pct_from_log_log'])\n",
    "\n",
    "log_log_reg_summary, r_squared_tip_pct_from_log_log\n"
   ]
  },
  {
   "cell_type": "markdown",
   "metadata": {},
   "source": [
    "Modelo de regressão linear ajustado com ambas tip_pct e net_bill transformadas em logaritmo. R^2 de 0.293 para o modelo log-log, indicando que ele explica cerca de 29.3% da variabilidade na escala logarítmica.\n",
    "Quando transformado de volta para a escala original, o R^2 é de aproximadamente 0.228, explicando cerca de 22.8% da variabilidade em tip_pct.\n",
    "O modelo log-log capta melhor a relação entre tip_pct e net_bill do que modelos anteriores, sugerindo uma relação mais complexa.\n",
    "Conclusão: O modelo log-log é mais eficaz para entender as relações complexas entre a porcentagem da gorjeta e o valor da conta líquida."
   ]
  },
  {
   "cell_type": "markdown",
   "metadata": {},
   "source": [
    "###  6. qual modelo resultou no melhor ajuste?"
   ]
  },
  {
   "cell_type": "markdown",
   "metadata": {},
   "source": [
    "O modelo de regressão linear log-log, que transformou tanto a porcentagem da gorjeta (tip_pct) quanto o valor da conta líquida (net_bill) para a escala logarítmica, resultou no melhor ajuste.\n",
    "O modelo log-log teve um R quadrado de 0.293 na escala logarítmica, o que significa que ele explica cerca de 29.3% da variabilidade no logaritmo da porcentagem da gorjeta.\n",
    "Quando as predições foram transformadas de volta para a escala original, o R quadrado foi de aproximadamente 0.228, indicando que o modelo explica cerca de 22.8% da variabilidade na porcentagem da gorjeta original.\n",
    "Este foi o melhor ajuste entre todos os modelos testados, superando os modelos diretos e os modelos com transformação logarítmica de apenas uma das variáveis.\n",
    "Conclusão: O modelo log-log se mostrou mais eficaz para entender as relações complexas entre a porcentagem da gorjeta e o valor da conta líquida, especialmente ao considerar ambas as variáveis em uma escala logarítmica.\n"
   ]
  },
  {
   "cell_type": "code",
   "execution_count": null,
   "metadata": {},
   "outputs": [],
   "source": []
  }
 ],
 "metadata": {
  "kernelspec": {
   "display_name": "Python 3 (ipykernel)",
   "language": "python",
   "name": "python3"
  },
  "language_info": {
   "codemirror_mode": {
    "name": "ipython",
    "version": 3
   },
   "file_extension": ".py",
   "mimetype": "text/x-python",
   "name": "python",
   "nbconvert_exporter": "python",
   "pygments_lexer": "ipython3",
   "version": "3.10.9"
  }
 },
 "nbformat": 4,
 "nbformat_minor": 4
}
